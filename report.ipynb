{
 "cells": [
  {
   "cell_type": "markdown",
   "metadata": {},
   "source": [
    "# Final Report\n",
    "\n",
    "Transplant the necessary code from `eda.ipynb` to this notebook, and clean everything up for presentation!"
   ]
  },
  {
   "cell_type": "markdown",
   "metadata": {},
   "source": [
    "**Mental Health Analysis**\n"
   ]
  },
  {
   "cell_type": "code",
   "execution_count": null,
   "metadata": {},
   "outputs": [],
   "source": [
    "import pandas as pd\n",
    "import matplotlib.pyplot as plt\n"
   ]
  },
  {
   "cell_type": "markdown",
   "metadata": {},
   "source": [
    "Step 1: Compile data"
   ]
  },
  {
   "cell_type": "code",
   "execution_count": null,
   "metadata": {},
   "outputs": [],
   "source": [
    "mh_1 = pd.read_csv('data/mentalillness_data1.csv')\n",
    "mh_2 = pd.read_csv('data/mentalillness_data2.csv')\n",
    "mh = mh_1.append(mh_2)\n",
    "print(f'There are {mh.shape[0]} rows and {mh.shape[1]} columns of unmunged data.');"
   ]
  },
  {
   "cell_type": "code",
   "execution_count": null,
   "metadata": {},
   "outputs": [],
   "source": [
    "print(mh_1.info())\n",
    "#this is used to get all columns and data types\n",
    "print(mh_2.info())\n",
    "print(mh.info())"
   ]
  },
  {
   "cell_type": "markdown",
   "metadata": {},
   "source": [
    "Step 2: Munge the Data"
   ]
  },
  {
   "cell_type": "markdown",
   "metadata": {},
   "source": [
    "Data Types"
   ]
  },
  {
   "cell_type": "code",
   "execution_count": null,
   "metadata": {},
   "outputs": [],
   "source": [
    "pd.DataFrame(mh.dtypes, columns=['DataTypes'])\n"
   ]
  },
  {
   "cell_type": "markdown",
   "metadata": {},
   "source": [
    "The data is made up of entirely of strings, except for the unique ID."
   ]
  },
  {
   "cell_type": "markdown",
   "metadata": {},
   "source": [
    "There are some null values in the data that need to be removed."
   ]
  },
  {
   "cell_type": "code",
   "execution_count": null,
   "metadata": {},
   "outputs": [],
   "source": [
    "mh.dropna(inplace = True)\n",
    "print(f'Now there are {mh.shape[0]} rows and {mh.shape[1]} columns of munged data.');"
   ]
  },
  {
   "cell_type": "markdown",
   "metadata": {},
   "source": [
    "**Step 3: Analyze the Data**"
   ]
  },
  {
   "cell_type": "markdown",
   "metadata": {},
   "source": [
    "**Mental Illness Types**"
   ]
  },
  {
   "cell_type": "code",
   "execution_count": null,
   "metadata": {},
   "outputs": [],
   "source": [
    "print('The top 5 illnesses with the most cases are:')\n",
    "mh['illness'].value_counts().head()\n"
   ]
  },
  {
   "cell_type": "code",
   "execution_count": null,
   "metadata": {},
   "outputs": [],
   "source": [
    "mh['illness'].value_counts().plot(kind='bar')\n",
    "plt.ylabel('Number of Cases')\n",
    "plt.xlabel('Disorder')\n",
    "plt.title('Number of Cases by Disorder');"
   ]
  },
  {
   "cell_type": "code",
   "execution_count": null,
   "metadata": {},
   "outputs": [],
   "source": []
  },
  {
   "cell_type": "markdown",
   "metadata": {},
   "source": [
    "**Mental Illness by State**"
   ]
  },
  {
   "cell_type": "code",
   "execution_count": null,
   "metadata": {},
   "outputs": [],
   "source": [
    "print(f\"The top 5 states with the most cases are:\")\n",
    "mh['state'].value_counts().head()\n"
   ]
  },
  {
   "cell_type": "code",
   "execution_count": null,
   "metadata": {},
   "outputs": [],
   "source": [
    "mh['state'].value_counts().plot(kind='bar', figsize=(13,8));\n",
    "plt.ylabel('Number of Cases')\n",
    "plt.xlabel('State')\n",
    "plt.title('Number of Cases by State');"
   ]
  },
  {
   "cell_type": "code",
   "execution_count": null,
   "metadata": {},
   "outputs": [],
   "source": [
    "illness=mh['illness'].unique()\n",
    "mh_by_disorder = mh.groupby(['illness','state']) \\\n",
    "                .count() \n",
    "# for i in range(len(illness)):\n",
    "#     mh_by_disorder.loc[illness[i]].sort_values(by='id', ascending=False).head()\n",
    "#     print(mh_by_disorder)\n",
    "    \n",
    "\n",
    "mh_by_disorder.loc['Depression'].sort_values(by='id', ascending=False).head()"
   ]
  },
  {
   "cell_type": "code",
   "execution_count": null,
   "metadata": {},
   "outputs": [],
   "source": [
    "print(f'South Dakota has the highest cases of Depression')"
   ]
  },
  {
   "cell_type": "code",
   "execution_count": null,
   "metadata": {},
   "outputs": [],
   "source": [
    "mh_by_disorder.loc['Anxiety Disorder'].sort_values(by='id', ascending=False).head()"
   ]
  },
  {
   "cell_type": "code",
   "execution_count": null,
   "metadata": {},
   "outputs": [],
   "source": [
    "print('Arkansas has the highest cases of Anxiety Disorder')"
   ]
  },
  {
   "cell_type": "code",
   "execution_count": null,
   "metadata": {},
   "outputs": [],
   "source": [
    "mh_by_disorder.loc['Schizophrenia'].sort_values(by='id', ascending=False).head()"
   ]
  },
  {
   "cell_type": "code",
   "execution_count": null,
   "metadata": {},
   "outputs": [],
   "source": [
    "print('Illinois and Wisconsin have the highest cases of Schizophrenia')"
   ]
  },
  {
   "cell_type": "code",
   "execution_count": null,
   "metadata": {},
   "outputs": [],
   "source": [
    "mh_by_disorder.loc['Eating Disorder'].sort_values(by='id', ascending=False).head()\n",
    "print('Rhode Island and Texas have the highest cases of Eating Disorders')"
   ]
  },
  {
   "cell_type": "markdown",
   "metadata": {},
   "source": [
    "**Mental Illness by Ethnicity**"
   ]
  },
  {
   "cell_type": "code",
   "execution_count": null,
   "metadata": {},
   "outputs": [],
   "source": [
    "print('The top 3 ethnicities with the most cases are:')\n",
    "mh['ethnicity'].value_counts().head(3)"
   ]
  },
  {
   "cell_type": "code",
   "execution_count": null,
   "metadata": {},
   "outputs": [],
   "source": [
    "mh['ethnicity'].value_counts().plot(kind='bar')\n",
    "plt.ylabel('Number of Cases')\n",
    "plt.xlabel('Ethnicity')\n",
    "plt.title('Number of Cases by Ethnicity');"
   ]
  },
  {
   "cell_type": "code",
   "execution_count": null,
   "metadata": {},
   "outputs": [],
   "source": [
    "mh_by_ethnicity = mh.groupby(['ethnicity','illness']) \\\n",
    "                .count() \n",
    "for \n",
    "mh_by_ethnicity.loc['asian'].sort_values(by='id', ascending=False)\n"
   ]
  },
  {
   "cell_type": "markdown",
   "metadata": {},
   "source": []
  },
  {
   "cell_type": "code",
   "execution_count": null,
   "metadata": {},
   "outputs": [],
   "source": [
    "mh_by_state = mh.groupby(['state','illness']) \\\n",
    "                .count() \n",
    "mh_by_state.loc['Texas'].sort_values(by='id', ascending=False)\n"
   ]
  },
  {
   "cell_type": "code",
   "execution_count": null,
   "metadata": {},
   "outputs": [],
   "source": [
    "mh_by_state.loc['Virginia'].sort_values(by='id', ascending=False)\n"
   ]
  },
  {
   "cell_type": "markdown",
   "metadata": {},
   "source": [
    "I created a function where you can specify which illnesses you want to look at."
   ]
  },
  {
   "cell_type": "code",
   "execution_count": null,
   "metadata": {},
   "outputs": [],
   "source": [
    "def illness(*args): \n",
    "    filter_list = []\n",
    "    for illness in args:\n",
    "        filter_list.append(illness)\n",
    "    \n",
    "    illness = mh[mh.illness.isin(filter_list)]\n",
    "    illness['illness'].value_counts().plot(kind='bar')\n",
    "    return \n",
    "\n",
    "mh_illness = input('Name illnesses, separated by commas no spaces: \\n')\n",
    "print(f'input is: {mh_illness}')\n",
    "illness_list = mh_illness.split(',')\n",
    "print(f'list is: {illness_list}')\n",
    "illness(*illness_list)\n",
    "\n",
    "\n",
    "# illness('Depression', 'Schizophrenia')\n"
   ]
  },
  {
   "cell_type": "code",
   "execution_count": null,
   "metadata": {},
   "outputs": [],
   "source": [
    "# def state(*args): \n",
    "#     filter_list = []\n",
    "#     for illness in args:\n",
    "#         filter_list.append(illness)\n",
    "    \n",
    "#     illness = mh[mh.illness.isin(filter_list)]\n",
    "#     illness['state'].value_counts().plot(kind='bar')\n",
    "#     return \n",
    "\n",
    "# mh_state = input('Name states, separated by commas no spaces: \\n')\n",
    "# print(f'input is: {mh_state}')\n",
    "# state_list = mh_state.split(',')\n",
    "# print(f'list is: {state_list}')\n",
    "# state(*state_list)\n"
   ]
  },
  {
   "cell_type": "code",
   "execution_count": null,
   "metadata": {},
   "outputs": [],
   "source": []
  }
 ],
 "metadata": {
  "kernelspec": {
   "display_name": "Python 3",
   "language": "python",
   "name": "python3"
  },
  "language_info": {
   "codemirror_mode": {
    "name": "ipython",
    "version": 3
   },
   "file_extension": ".py",
   "mimetype": "text/x-python",
   "name": "python",
   "nbconvert_exporter": "python",
   "pygments_lexer": "ipython3",
   "version": "3.7.4"
  }
 },
 "nbformat": 4,
 "nbformat_minor": 2
}
